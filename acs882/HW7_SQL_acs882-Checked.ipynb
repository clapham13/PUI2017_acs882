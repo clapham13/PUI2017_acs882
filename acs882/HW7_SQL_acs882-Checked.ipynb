{
 "cells": [
  {
   "cell_type": "markdown",
   "metadata": {},
   "source": [
    "# SQL CARTO QUERY FUNCTION\n",
    "# written for PUI2016_Python2"
   ]
  },
  {
   "cell_type": "markdown",
   "metadata": {},
   "source": [
    "##### This notebook is set up to link as a default to the fb55 account.  To turn in the homework use the same account you used in the lab (hvt201)  and query the database that you were querying in class (citibike_feb_2015)"
   ]
  },
  {
   "cell_type": "code",
   "execution_count": 1,
   "metadata": {},
   "outputs": [
    {
     "ename": "SyntaxError",
     "evalue": "invalid syntax (<ipython-input-1-73273d8ed468>, line 24)",
     "output_type": "error",
     "traceback": [
      "\u001b[0;36m  File \u001b[0;32m\"<ipython-input-1-73273d8ed468>\"\u001b[0;36m, line \u001b[0;32m24\u001b[0m\n\u001b[0;31m    except urllib2.HTTPError, e:\u001b[0m\n\u001b[0m                            ^\u001b[0m\n\u001b[0;31mSyntaxError\u001b[0m\u001b[0;31m:\u001b[0m invalid syntax\n"
     ]
    }
   ],
   "source": [
    "SQL_SOURCE = 'https://fb55.carto.com/api/v2/sql?q='\n",
    "from __future__ import print_function\n",
    "\n",
    "import urllib2\n",
    "import urllib\n",
    "import StringIO\n",
    "import ast\n",
    "import pandas as pd\n",
    "\n",
    "def queryCartoDB(query, format='CSV', source=SQL_SOURCE):\n",
    "    '''queries carto datasets from a given carto account\n",
    "    Arguments: \n",
    "    query - string: a valid sql query string\n",
    "    format - outlut format  OPTIONAL (default CSV)\n",
    "    source - a valid sql api endpoint OPTIONAL (default carto fb55 account)\n",
    "    Returns:\n",
    "    the return of the sql query AS A STRING\n",
    "    NOTES:\n",
    "    designed for the carto API, tested only with CSV return format'''\n",
    "    \n",
    "    data = urllib.urlencode({'format': format, 'q': query})\n",
    "    try:\n",
    "        response = urllib2.urlopen(source, data)\n",
    "    except urllib2.HTTPError, e:\n",
    "        raise ValueError('\\n'.join(ast.literal_eval(e.readline())['error']))\n",
    "    except Exception:\n",
    "        raise\n",
    "    return response.read()"
   ]
  },
  {
   "cell_type": "code",
   "execution_count": null,
   "metadata": {},
   "outputs": [],
   "source": [
    "test = '''\n",
    "SELECT *\n",
    "FROM citibike\n",
    "'''"
   ]
  },
  {
   "cell_type": "code",
   "execution_count": null,
   "metadata": {},
   "outputs": [],
   "source": [
    "pd.read_csv(StringIO.StringIO(queryCartoDB(test)), sep=',')"
   ]
  },
  {
   "cell_type": "markdown",
   "metadata": {},
   "source": [
    "# Task 1"
   ]
  },
  {
   "cell_type": "code",
   "execution_count": null,
   "metadata": {},
   "outputs": [],
   "source": [
    "query = '''\n",
    "SELECT * FROM citibike\n",
    "WHERE tripduration < 10800\n",
    "ORDER BY start_station_id, tripduration\n",
    "'''\n",
    "pd.read_csv(StringIO.StringIO(queryCartoDB(query)), sep=',')"
   ]
  },
  {
   "cell_type": "code",
   "execution_count": null,
   "metadata": {},
   "outputs": [],
   "source": [
    "query = '''\n",
    "SELECT * FROM citibike\n",
    "WHERE tripduration < 10800\n",
    "ORDER BY start_station_id, tripduration\n",
    "LIMIT 10\n",
    "'''\n",
    "print('TOP 10')\n",
    "pd.read_csv(StringIO.StringIO(queryCartoDB(query)), sep=',')"
   ]
  },
  {
   "cell_type": "code",
   "execution_count": null,
   "metadata": {},
   "outputs": [],
   "source": [
    "query = '''\n",
    "SELECT * FROM citibike\n",
    "WHERE tripduration < 10800\n",
    "ORDER BY start_station_id DESC, tripduration DESC\n",
    "LIMIT 10\n",
    "'''\n",
    "print('BOTTOM 10')\n",
    "pd.read_csv(StringIO.StringIO(queryCartoDB(query)), sep=',')"
   ]
  },
  {
   "cell_type": "code",
   "execution_count": null,
   "metadata": {},
   "outputs": [],
   "source": [
    "query = '''\n",
    "SELECT DISTINCT start_station_id FROM citibike\n",
    "ORDER BY start_station_id\n",
    "'''\n",
    "stations = pd.read_csv(StringIO.StringIO(queryCartoDB(query)), sep=',')\n",
    "stations = stations['start_station_id'].values\n",
    "print(\"Unique Stations:\")\n",
    "for i in range(0, len(stations)):\n",
    "    print (stations[i])"
   ]
  },
  {
   "cell_type": "code",
   "execution_count": null,
   "metadata": {},
   "outputs": [],
   "source": [
    "query = '''\n",
    "SELECT COUNT(*) FROM citibike\n",
    "'''\n",
    "count = pd.read_csv(StringIO.StringIO(queryCartoDB(query)), sep=',')['count'][0]\n",
    "\n",
    "query = '''\n",
    "SELECT AVG(tripduration) FROM citibike\n",
    "'''\n",
    "avg = pd.read_csv(StringIO.StringIO(queryCartoDB(query)), sep=',')['avg'][0]\n",
    "\n",
    "query = '''\n",
    "SELECT MAX(tripduration) FROM citibike\n",
    "'''\n",
    "maxim = pd.read_csv(StringIO.StringIO(queryCartoDB(query)), sep=',')['max'][0]\n",
    "\n",
    "query = '''\n",
    "SELECT MIN(tripduration) FROM citibike\n",
    "'''\n",
    "minim = pd.read_csv(StringIO.StringIO(queryCartoDB(query)), sep=',')['min'][0]\n",
    "\n",
    "print('AGGREGATION FUNCTIONS - TRIP DURATION:')\n",
    "print('Count:', count)\n",
    "print('Average:', avg)\n",
    "print('Maximum:', maxim)\n",
    "print('Minimum:', minim)"
   ]
  },
  {
   "cell_type": "markdown",
   "metadata": {},
   "source": [
    "# Task 2"
   ]
  },
  {
   "cell_type": "code",
   "execution_count": null,
   "metadata": {},
   "outputs": [],
   "source": [
    "query = '''\n",
    "SELECT * FROM citibike\n",
    "WHERE starttime >= '2015-02-02 00:00:00'\n",
    "AND starttime > '2015-02-03 00:00:00'\n",
    "'''\n",
    "pd.read_csv(StringIO.StringIO(queryCartoDB(query)), sep=',')"
   ]
  },
  {
   "cell_type": "markdown",
   "metadata": {},
   "source": [
    "# Task 3"
   ]
  },
  {
   "cell_type": "code",
   "execution_count": null,
   "metadata": {},
   "outputs": [],
   "source": [
    "query = '''\n",
    "SELECT\n",
    " CDB_TransformToWebmercator(CDB_LatLng(\n",
    " start_station_latitude,\n",
    " start_station_longitude\n",
    " )\n",
    " ) as the_geom_webmercator,\n",
    " MIN(cartodb_id) as cartodb_id\n",
    "FROM citibike\n",
    "GROUP BY\n",
    " start_station_latitude,\n",
    " start_station_longitude\n",
    "'''\n",
    "pd.read_csv(StringIO.StringIO(queryCartoDB(query)), sep=',')"
   ]
  },
  {
   "cell_type": "code",
   "execution_count": null,
   "metadata": {},
   "outputs": [],
   "source": [
    "query = '''\n",
    "SELECT\n",
    " start_station_id,\n",
    " CDB_TransformToWebmercator(CDB_LatLng(\n",
    " start_station_latitude,\n",
    " start_station_longitude\n",
    " )\n",
    " ) as the_geom_webmercator,\n",
    " MIN(cartodb_id) as cartodb_id,\n",
    " COUNT(tripduration) as numtrips\n",
    "FROM citibike\n",
    "GROUP BY\n",
    " start_station_id,\n",
    " start_station_latitude,\n",
    " start_station_longitude\n",
    "'''\n",
    "pd.read_csv(StringIO.StringIO(queryCartoDB(query)), sep=',')"
   ]
  },
  {
   "cell_type": "code",
   "execution_count": null,
   "metadata": {},
   "outputs": [],
   "source": [
    "query = '''\n",
    "SELECT\n",
    " start_station_id,\n",
    " CDB_TransformToWebmercator(CDB_LatLng(\n",
    " start_station_latitude,\n",
    " start_station_longitude\n",
    " )\n",
    " ) as the_geom_webmercator,\n",
    " MIN(cartodb_id) as cartodb_id,\n",
    " COUNT(tripduration) as numtrips\n",
    "FROM citibike\n",
    "WHERE\n",
    "ST_DWithin(CDB_LatLng(\n",
    " start_station_latitude,\n",
    " start_station_longitude\n",
    " )::geography,\n",
    " CDB_LatLng(40.7577,-73.9857)::geography,\n",
    " 500)\n",
    "GROUP BY\n",
    " start_station_id,\n",
    " start_station_latitude,\n",
    " start_station_longitude\n",
    "'''\n",
    "pd.read_csv(StringIO.StringIO(queryCartoDB(query)), sep=',')"
   ]
  },
  {
   "cell_type": "markdown",
   "metadata": {},
   "source": [
    "# Task 4"
   ]
  },
  {
   "cell_type": "code",
   "execution_count": null,
   "metadata": {},
   "outputs": [],
   "source": [
    "query = '''\n",
    "SELECT\n",
    " start_station_id,\n",
    " CDB_TransformToWebmercator(CDB_LatLng(start_station_latitude, start_station_longitude)\n",
    " ) as the_geom_webmercator,\n",
    " MIN(cartodb_id) as cartodb_id,\n",
    " AVG(tripduration) as avg_duration\n",
    "FROM citibike\n",
    "WHERE\n",
    "ST_DWithin(\n",
    " CDB_LatLng(\n",
    " start_station_latitude,\n",
    " start_station_longitude\n",
    " )::geography,\n",
    " CDB_LatLng(40.7577,-73.9857)::geography,\n",
    " 500)\n",
    "\n",
    "GROUP BY\n",
    " start_station_id,\n",
    " start_station_latitude,\n",
    " start_station_longitude\n",
    "ORDER BY avg_duration DESC\n",
    "LIMIT 1\n",
    "'''\n",
    "pd.read_csv(StringIO.StringIO(queryCartoDB(query)), sep=',')"
   ]
  },
  {
   "cell_type": "code",
   "execution_count": null,
   "metadata": {},
   "outputs": [],
   "source": [
    "query = '''\n",
    "SELECT\n",
    " start_station_id,\n",
    " end_station_id,\n",
    " ST_Makeline(\n",
    " CDB_TransformToWebmercator(CDB_LatLng(\n",
    " start_station_latitude,\n",
    " start_station_longitude\n",
    " )),\n",
    " CDB_TransformToWebmercator(CDB_LatLng(\n",
    " end_station_latitude,\n",
    " end_station_longitude\n",
    " ))\n",
    " ) as the_geom_webmercator,\n",
    " MIN(cartodb_id) as cartodb_id,\n",
    " AVG(tripduration) as avg_duration\n",
    "FROM citibike\n",
    "WHERE\n",
    "tripduration<7200\n",
    "and\n",
    "ST_DWithin(\n",
    "CDB_LatLng(\n",
    " start_station_latitude,\n",
    " start_station_longitude\n",
    " )::geography,\n",
    " CDB_LatLng(40.7577,-73.9857)::geography,\n",
    " 500)\n",
    "GROUP BY\n",
    " start_station_id,\n",
    " start_station_latitude,\n",
    " start_station_longitude,\n",
    " end_station_id,\n",
    " end_station_latitude,\n",
    " end_station_longitude\n",
    "'''\n",
    "pd.read_csv(StringIO.StringIO(queryCartoDB(query)), sep=',')"
   ]
  },
  {
   "cell_type": "markdown",
   "metadata": {
    "collapsed": true
   },
   "source": [
    "# extra credit: make the function python 2 and 3 compatible so that it works on the  PUI2016_Python3 kernel"
   ]
  },
  {
   "cell_type": "markdown",
   "metadata": {},
   "source": [
    "## ASH - Score 100. EXtra Credit 0"
   ]
  },
  {
   "cell_type": "code",
   "execution_count": null,
   "metadata": {},
   "outputs": [],
   "source": []
  }
 ],
 "metadata": {
  "anaconda-cloud": {},
  "kernelspec": {
   "display_name": "PUI2016_Python3",
   "language": "python",
   "name": "pui2016_python3"
  },
  "language_info": {
   "codemirror_mode": {
    "name": "ipython",
    "version": 3
   },
   "file_extension": ".py",
   "mimetype": "text/x-python",
   "name": "python",
   "nbconvert_exporter": "python",
   "pygments_lexer": "ipython3",
   "version": "3.5.4"
  }
 },
 "nbformat": 4,
 "nbformat_minor": 1
}
